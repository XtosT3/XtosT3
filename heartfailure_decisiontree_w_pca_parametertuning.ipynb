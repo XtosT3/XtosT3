{
  "nbformat": 4,
  "nbformat_minor": 5,
  "metadata": {
    "kernelspec": {
      "display_name": "Python 3",
      "language": "python",
      "name": "python3"
    },
    "language_info": {
      "codemirror_mode": {
        "name": "ipython",
        "version": 3
      },
      "file_extension": ".py",
      "mimetype": "text/x-python",
      "name": "python",
      "nbconvert_exporter": "python",
      "pygments_lexer": "ipython3",
      "version": "3.7.10"
    },
    "papermill": {
      "default_parameters": {},
      "duration": 23.916202,
      "end_time": "2021-10-07T14:20:11.843186",
      "environment_variables": {},
      "exception": null,
      "input_path": "__notebook__.ipynb",
      "output_path": "__notebook__.ipynb",
      "parameters": {},
      "start_time": "2021-10-07T14:19:47.926984",
      "version": "2.3.3"
    },
    "colab": {
      "name": "heartfailure-decisiontree-w-pca-parametertuning.ipynb",
      "provenance": [],
      "include_colab_link": true
    }
  },
  "cells": [
    {
      "cell_type": "markdown",
      "metadata": {
        "id": "view-in-github",
        "colab_type": "text"
      },
      "source": [
        "<a href=\"https://colab.research.google.com/github/XtosT3/XtosT3/blob/main/heartfailure_decisiontree_w_pca_parametertuning.ipynb\" target=\"_parent\"><img src=\"https://colab.research.google.com/assets/colab-badge.svg\" alt=\"Open In Colab\"/></a>"
      ]
    },
    {
      "cell_type": "markdown",
      "metadata": {
        "papermill": {
          "duration": 0.031101,
          "end_time": "2021-10-07T14:19:57.341780",
          "exception": false,
          "start_time": "2021-10-07T14:19:57.310679",
          "status": "completed"
        },
        "tags": [],
        "id": "6265aeca"
      },
      "source": [
        "**Problem Identification** \n",
        "\n",
        "Cardiovascular diseases (CVDs) are the number 1 cause of death globally, taking an estimated 17.9 million lives each year, which accounts for 31% of all deaths worldwide. Four out of 5CVD deaths are due to heart attacks and strokes, and one-third of these deaths occur prematurely in people under 70 years of age. Heart failure is a common event caused by CVDs and this dataset contains 11 features that can be used to predict a possible heart disease. People with cardiovascular disease or who are at high cardiovascular risk (due to the presence of one or more risk factors such as hypertension, diabetes, hyperlipidaemia or already established disease) need early detection and management wherein a machine learning model can be of great help.\n",
        "\n",
        "Source\n",
        "This dataset was created by combining different datasets already available independently but not combined before. In this dataset, 5 heart datasets are combined over 11 common features which makes it the largest heart disease dataset available so far for research purposes. The five datasets used for its curation are:\n",
        "* Cleveland: 303 observations\n",
        "* Hungarian: 294 observations\n",
        "* Switzerland: 123 observations\n",
        "* Long Beach VA: 200 observations\n",
        "* Stalog (Heart) Data Set: 270 observations\n",
        "* Total: 1190 observations\n",
        "* Duplicated: 272 observations\n",
        "\n",
        "A classification machine learning model will be utilized. The classifier will be a decision tree classifier. This model is interpretable, does not require feature scaling, and is effective of linear and non-linear problems. However, in this problem feature scaling will still be applied to strengthen the prediction."
      ],
      "id": "6265aeca"
    },
    {
      "cell_type": "markdown",
      "metadata": {
        "papermill": {
          "duration": 0.028232,
          "end_time": "2021-10-07T14:19:57.398964",
          "exception": false,
          "start_time": "2021-10-07T14:19:57.370732",
          "status": "completed"
        },
        "tags": [],
        "id": "d5bc779e"
      },
      "source": [
        "**Attribute Information**\n",
        "* Age: age of the patient [years]\n",
        "* Sex: sex of the patient [M: Male, F: Female]\n",
        "* ChestPainType: chest pain type [TA: Typical Angina, ATA: Atypical Angina, NAP: Non-Anginal Pain, ASY: Asymptomatic]\n",
        "* RestingBP: resting blood pressure [mm Hg]\n",
        "* Cholesterol: serum cholesterol [mm/dl]\n",
        "* FastingBS: fasting blood sugar [1: if FastingBS > 120 mg/dl, 0: otherwise]\n",
        "* RestingECG: resting electrocardiogram results [Normal: Normal, ST: having ST-T wave abnormality (T wave inversions and/or ST elevation or depression of > 0.05 mV), LVH: showing probable or definite left ventricular hypertrophy by Estes' criteria]\n",
        "* MaxHR: maximum heart rate achieved [Numeric value between 60 and 202]\n",
        "* ExerciseAngina: exercise-induced angina [Y: Yes, N: No]\n",
        "* Oldpeak: oldpeak = ST [Numeric value measured in depression]\n",
        "* ST_Slope: the slope of the peak exercise ST segment [Up: upsloping, Flat: flat, Down: downsloping]\n",
        "* HeartDisease: output class [1: heart disease, 0: Normal]"
      ],
      "id": "d5bc779e"
    },
    {
      "cell_type": "markdown",
      "metadata": {
        "papermill": {
          "duration": 0.029954,
          "end_time": "2021-10-07T14:19:57.457576",
          "exception": false,
          "start_time": "2021-10-07T14:19:57.427622",
          "status": "completed"
        },
        "tags": [],
        "id": "c7608455"
      },
      "source": [
        "**Import libraries**"
      ],
      "id": "c7608455"
    },
    {
      "cell_type": "code",
      "metadata": {
        "execution": {
          "iopub.execute_input": "2021-10-07T14:19:57.531310Z",
          "iopub.status.busy": "2021-10-07T14:19:57.529403Z",
          "iopub.status.idle": "2021-10-07T14:19:59.092119Z",
          "shell.execute_reply": "2021-10-07T14:19:59.091204Z",
          "shell.execute_reply.started": "2021-10-07T00:31:01.960566Z"
        },
        "papermill": {
          "duration": 1.605744,
          "end_time": "2021-10-07T14:19:59.092321",
          "exception": false,
          "start_time": "2021-10-07T14:19:57.486577",
          "status": "completed"
        },
        "tags": [],
        "id": "2f271231"
      },
      "source": [
        "import numpy as np\n",
        "import matplotlib.pyplot as plt\n",
        "import pandas as pd\n",
        "import seaborn as sns\n",
        "\n",
        "from sklearn.preprocessing import OneHotEncoder\n",
        "from sklearn.compose import ColumnTransformer\n",
        "from sklearn.model_selection import train_test_split\n",
        "from sklearn.preprocessing import StandardScaler\n",
        "from sklearn.decomposition import PCA\n",
        "from sklearn.tree import DecisionTreeClassifier\n",
        "\n",
        "from sklearn.metrics import confusion_matrix, accuracy_score\n",
        "from sklearn.model_selection import cross_val_score\n",
        "from sklearn.model_selection import GridSearchCV"
      ],
      "id": "2f271231",
      "execution_count": 3,
      "outputs": []
    },
    {
      "cell_type": "markdown",
      "metadata": {
        "papermill": {
          "duration": 0.029377,
          "end_time": "2021-10-07T14:19:59.149771",
          "exception": false,
          "start_time": "2021-10-07T14:19:59.120394",
          "status": "completed"
        },
        "tags": [],
        "id": "7f7b84d3"
      },
      "source": [
        "**Import Data**"
      ],
      "id": "7f7b84d3"
    },
    {
      "cell_type": "code",
      "metadata": {
        "execution": {
          "iopub.execute_input": "2021-10-07T14:19:59.217684Z",
          "iopub.status.busy": "2021-10-07T14:19:59.216846Z",
          "iopub.status.idle": "2021-10-07T14:19:59.240424Z",
          "shell.execute_reply": "2021-10-07T14:19:59.240979Z",
          "shell.execute_reply.started": "2021-10-07T00:31:12.163923Z"
        },
        "papermill": {
          "duration": 0.062784,
          "end_time": "2021-10-07T14:19:59.241179",
          "exception": false,
          "start_time": "2021-10-07T14:19:59.178395",
          "status": "completed"
        },
        "tags": [],
        "id": "4f59edf8"
      },
      "source": [
        "# Set a filepath for the dataset\n",
        "\n",
        "dataset = pd.read_csv(\"heart.csv\")"
      ],
      "id": "4f59edf8",
      "execution_count": 4,
      "outputs": []
    },
    {
      "cell_type": "markdown",
      "metadata": {
        "papermill": {
          "duration": 0.027759,
          "end_time": "2021-10-07T14:19:59.298518",
          "exception": false,
          "start_time": "2021-10-07T14:19:59.270759",
          "status": "completed"
        },
        "tags": [],
        "id": "d1f45fde"
      },
      "source": [
        "**Data Analysis** Correlations and distributions in the data are to be unveiled. "
      ],
      "id": "d1f45fde"
    },
    {
      "cell_type": "code",
      "metadata": {
        "execution": {
          "iopub.execute_input": "2021-10-07T14:19:59.364505Z",
          "iopub.status.busy": "2021-10-07T14:19:59.363760Z",
          "iopub.status.idle": "2021-10-07T14:19:59.367386Z",
          "shell.execute_reply": "2021-10-07T14:19:59.367987Z",
          "shell.execute_reply.started": "2021-10-07T00:31:15.604409Z"
        },
        "papermill": {
          "duration": 0.04188,
          "end_time": "2021-10-07T14:19:59.368170",
          "exception": false,
          "start_time": "2021-10-07T14:19:59.326290",
          "status": "completed"
        },
        "tags": [],
        "colab": {
          "base_uri": "https://localhost:8080/"
        },
        "id": "61541bdb",
        "outputId": "77adcd8b-57b0-461d-edc1-4237b0a2d5ee"
      },
      "source": [
        "print(\"Missing entries in dataset:\")\n",
        "print(dataset.isnull().sum())"
      ],
      "id": "61541bdb",
      "execution_count": 5,
      "outputs": [
        {
          "output_type": "stream",
          "name": "stdout",
          "text": [
            "Missing entries in dataset:\n",
            "Age               0\n",
            "Sex               0\n",
            "ChestPainType     0\n",
            "RestingBP         0\n",
            "Cholesterol       0\n",
            "FastingBS         0\n",
            "RestingECG        0\n",
            "MaxHR             0\n",
            "ExerciseAngina    0\n",
            "Oldpeak           0\n",
            "ST_Slope          0\n",
            "HeartDisease      0\n",
            "dtype: int64\n"
          ]
        }
      ]
    },
    {
      "cell_type": "code",
      "metadata": {
        "execution": {
          "iopub.execute_input": "2021-10-07T14:19:59.451604Z",
          "iopub.status.busy": "2021-10-07T14:19:59.450962Z",
          "iopub.status.idle": "2021-10-07T14:19:59.717771Z",
          "shell.execute_reply": "2021-10-07T14:19:59.717010Z",
          "shell.execute_reply.started": "2021-10-07T00:31:19.255318Z"
        },
        "papermill": {
          "duration": 0.319867,
          "end_time": "2021-10-07T14:19:59.717933",
          "exception": false,
          "start_time": "2021-10-07T14:19:59.398066",
          "status": "completed"
        },
        "tags": [],
        "colab": {
          "base_uri": "https://localhost:8080/",
          "height": 312
        },
        "id": "9fa73060",
        "outputId": "580ae6f8-f488-43ec-e4b3-1c0c4b031cb8"
      },
      "source": [
        "plt.title(\"Risk of heart disease \")\n",
        "plt.ylabel(\"Heart Disease\")\n",
        "plt.xlabel(\"Sex\")\n",
        "sns.barplot( x = dataset[\"Sex\"], y = dataset[\"HeartDisease\"])"
      ],
      "id": "9fa73060",
      "execution_count": 6,
      "outputs": [
        {
          "output_type": "execute_result",
          "data": {
            "text/plain": [
              "<matplotlib.axes._subplots.AxesSubplot at 0x7f4fed249ed0>"
            ]
          },
          "metadata": {},
          "execution_count": 6
        },
        {
          "output_type": "display_data",
          "data": {
            "image/png": "[encoded data removed]",
            "text/plain": [
              "<Figure size 432x288 with 1 Axes>"
            ]
          },
          "metadata": {
            "needs_background": "light"
          }
        }
      ]
    },
    {
      "cell_type": "markdown",
      "metadata": {
        "papermill": {
          "duration": 0.029485,
          "end_time": "2021-10-07T14:19:59.777505",
          "exception": false,
          "start_time": "2021-10-07T14:19:59.748020",
          "status": "completed"
        },
        "tags": [],
        "id": "4a6b65b4"
      },
      "source": [
        "From this bargraph it is clear that men in this dataset are at higher risk of cardiovascular disease than the women in this dataset. "
      ],
      "id": "4a6b65b4"
    },
    {
      "cell_type": "code",
      "metadata": {
        "execution": {
          "iopub.execute_input": "2021-10-07T14:19:59.869170Z",
          "iopub.status.busy": "2021-10-07T14:19:59.866569Z",
          "iopub.status.idle": "2021-10-07T14:20:00.050961Z",
          "shell.execute_reply": "2021-10-07T14:20:00.050256Z",
          "shell.execute_reply.started": "2021-10-07T00:31:25.670617Z"
        },
        "papermill": {
          "duration": 0.242226,
          "end_time": "2021-10-07T14:20:00.051143",
          "exception": false,
          "start_time": "2021-10-07T14:19:59.808917",
          "status": "completed"
        },
        "tags": [],
        "colab": {
          "base_uri": "https://localhost:8080/",
          "height": 295
        },
        "id": "bec22fdd",
        "outputId": "71ede459-26c5-4a37-b211-8912d570a86a"
      },
      "source": [
        "plt.title(\"Age distribution in dataset\")\n",
        "plt.xlabel(\"Age\")\n",
        "sns.kdeplot(data = dataset[\"Age\"], shade = True)\n",
        "plt.show()"
      ],
      "id": "bec22fdd",
      "execution_count": 7,
      "outputs": [
        {
          "output_type": "display_data",
          "data": {
            "image/png": "[encoded data removed]",
            "text/plain": [
              "<Figure size 432x288 with 1 Axes>"
            ]
          },
          "metadata": {
            "needs_background": "light"
          }
        }
      ]
    },
    {
      "cell_type": "markdown",
      "metadata": {
        "papermill": {
          "duration": 0.030283,
          "end_time": "2021-10-07T14:20:00.112470",
          "exception": false,
          "start_time": "2021-10-07T14:20:00.082187",
          "status": "completed"
        },
        "tags": [],
        "id": "1f73117e"
      },
      "source": [
        "Age is normally distributed around with the highest density around late 50s to early 60s. This is to be expected as it is around this age that cardiovascular disease become a real threat for majority of the population."
      ],
      "id": "1f73117e"
    },
    {
      "cell_type": "code",
      "metadata": {
        "execution": {
          "iopub.execute_input": "2021-10-07T14:20:00.331488Z",
          "iopub.status.busy": "2021-10-07T14:20:00.330482Z",
          "iopub.status.idle": "2021-10-07T14:20:01.393896Z",
          "shell.execute_reply": "2021-10-07T14:20:01.393181Z",
          "shell.execute_reply.started": "2021-10-07T00:31:40.872316Z"
        },
        "papermill": {
          "duration": 1.250626,
          "end_time": "2021-10-07T14:20:01.394073",
          "exception": false,
          "start_time": "2021-10-07T14:20:00.143447",
          "status": "completed"
        },
        "tags": [],
        "colab": {
          "base_uri": "https://localhost:8080/",
          "height": 674
        },
        "id": "7242bf25",
        "outputId": "b4993512-87cd-49e2-aa58-cc5970ab0643"
      },
      "source": [
        "plt.figure(figsize = (20,10))\n",
        "plt.title(\"Chest pain and resting blood pressure\")\n",
        "plt.ylabel(\"Resting blood pressure (mm Hg)\")\n",
        "plt.xlabel(\"Chest pain type\")\n",
        "sns.swarmplot(x = dataset[\"ChestPainType\"], y = dataset[\"RestingBP\"])\n",
        "plt.show()"
      ],
      "id": "7242bf25",
      "execution_count": 8,
      "outputs": [
        {
          "output_type": "stream",
          "name": "stderr",
          "text": [
            "/usr/local/lib/python3.7/dist-packages/seaborn/categorical.py:1296: UserWarning: 8.9% of the points cannot be placed; you may want to decrease the size of the markers or use stripplot.\n",
            "  warnings.warn(msg, UserWarning)\n"
          ]
        },
        {
          "output_type": "display_data",
          "data": {
            "image/png": "[encoded data removed]",
            "text/plain": [
              "<Figure size 1440x720 with 1 Axes>"
            ]
          },
          "metadata": {
            "needs_background": "light"
          }
        }
      ]
    },
    {
      "cell_type": "markdown",
      "metadata": {
        "papermill": {
          "duration": 0.034078,
          "end_time": "2021-10-07T14:20:01.461997",
          "exception": false,
          "start_time": "2021-10-07T14:20:01.427919",
          "status": "completed"
        },
        "tags": [],
        "id": "494962a3"
      },
      "source": [
        "The types of chest pains all appear to fall within a similar range. Asymptomatic pain however, does have a greater occurance at all ranges."
      ],
      "id": "494962a3"
    },
    {
      "cell_type": "markdown",
      "metadata": {
        "papermill": {
          "duration": 0.03314,
          "end_time": "2021-10-07T14:20:01.528727",
          "exception": false,
          "start_time": "2021-10-07T14:20:01.495587",
          "status": "completed"
        },
        "tags": [],
        "id": "3a4edc89"
      },
      "source": [
        "**Create independent matrix of features (X) and dependent variable vector (y)**"
      ],
      "id": "3a4edc89"
    },
    {
      "cell_type": "code",
      "metadata": {
        "execution": {
          "iopub.execute_input": "2021-10-07T14:20:01.602095Z",
          "iopub.status.busy": "2021-10-07T14:20:01.601092Z",
          "iopub.status.idle": "2021-10-07T14:20:01.605948Z",
          "shell.execute_reply": "2021-10-07T14:20:01.606440Z",
          "shell.execute_reply.started": "2021-10-07T00:31:48.140497Z"
        },
        "papermill": {
          "duration": 0.044551,
          "end_time": "2021-10-07T14:20:01.606650",
          "exception": false,
          "start_time": "2021-10-07T14:20:01.562099",
          "status": "completed"
        },
        "tags": [],
        "id": "021ca821"
      },
      "source": [
        "X = dataset.iloc[:, :-1].values\n",
        "y = dataset.iloc[:, -1].values"
      ],
      "id": "021ca821",
      "execution_count": 9,
      "outputs": []
    },
    {
      "cell_type": "code",
      "metadata": {
        "execution": {
          "iopub.execute_input": "2021-10-07T14:20:01.679910Z",
          "iopub.status.busy": "2021-10-07T14:20:01.678863Z",
          "iopub.status.idle": "2021-10-07T14:20:01.683114Z",
          "shell.execute_reply": "2021-10-07T14:20:01.682470Z",
          "shell.execute_reply.started": "2021-10-07T00:32:00.541379Z"
        },
        "papermill": {
          "duration": 0.0431,
          "end_time": "2021-10-07T14:20:01.683268",
          "exception": false,
          "start_time": "2021-10-07T14:20:01.640168",
          "status": "completed"
        },
        "tags": [],
        "colab": {
          "base_uri": "https://localhost:8080/"
        },
        "id": "c8d3aa69",
        "outputId": "4859d53b-850f-41de-98ad-2e31cc8e64b8"
      },
      "source": [
        "print(X)"
      ],
      "id": "c8d3aa69",
      "execution_count": 10,
      "outputs": [
        {
          "output_type": "stream",
          "name": "stdout",
          "text": [
            "[[40 'M' 'ATA' ... 'N' 0.0 'Up']\n",
            " [49 'F' 'NAP' ... 'N' 1.0 'Flat']\n",
            " [37 'M' 'ATA' ... 'N' 0.0 'Up']\n",
            " ...\n",
            " [57 'M' 'ASY' ... 'Y' 1.2 'Flat']\n",
            " [57 'F' 'ATA' ... 'N' 0.0 'Flat']\n",
            " [38 'M' 'NAP' ... 'N' 0.0 'Up']]\n"
          ]
        }
      ]
    },
    {
      "cell_type": "code",
      "metadata": {
        "execution": {
          "iopub.execute_input": "2021-10-07T14:20:01.758839Z",
          "iopub.status.busy": "2021-10-07T14:20:01.755808Z",
          "iopub.status.idle": "2021-10-07T14:20:01.762936Z",
          "shell.execute_reply": "2021-10-07T14:20:01.762321Z",
          "shell.execute_reply.started": "2021-10-07T00:32:04.356079Z"
        },
        "papermill": {
          "duration": 0.045949,
          "end_time": "2021-10-07T14:20:01.763101",
          "exception": false,
          "start_time": "2021-10-07T14:20:01.717152",
          "status": "completed"
        },
        "tags": [],
        "colab": {
          "base_uri": "https://localhost:8080/"
        },
        "id": "e6196cee",
        "outputId": "606a035a-cdd0-4091-b003-af4b9c8dbd9f"
      },
      "source": [
        "print(y)"
      ],
      "id": "e6196cee",
      "execution_count": 11,
      "outputs": [
        {
          "output_type": "stream",
          "name": "stdout",
          "text": [
            "[0 1 0 1 0 0 0 0 1 0 0 1 0 1 0 0 1 0 1 1 0 0 0 1 0 0 0 0 0 0 1 0 1 1 0 0 1\n",
            " 0 0 0 0 1 0 0 1 0 0 0 0 1 1 1 0 0 0 0 1 1 0 1 0 0 0 1 0 0 0 0 1 0 1 0 1 0\n",
            " 1 0 1 0 0 1 0 0 1 0 1 1 1 0 1 0 0 0 0 1 0 1 0 0 0 0 1 0 1 1 1 0 0 0 0 0 0\n",
            " 1 0 0 0 1 1 1 0 1 1 0 0 1 0 0 0 0 0 0 0 1 1 1 0 1 0 0 1 1 1 1 1 0 1 0 0 0\n",
            " 0 1 0 0 0 0 0 1 1 0 1 0 1 1 0 0 0 1 1 0 0 0 0 0 0 0 1 1 1 0 0 0 1 0 1 0 0\n",
            " 1 0 1 0 1 0 0 0 0 0 0 0 0 1 0 0 0 0 0 0 0 0 1 0 1 1 1 0 0 1 0 1 0 0 0 1 1\n",
            " 0 0 0 1 0 1 0 0 0 0 0 0 0 0 1 1 1 1 0 1 1 0 1 0 1 1 1 1 1 1 0 0 1 0 0 0 0\n",
            " 0 0 0 1 1 1 0 1 0 1 0 0 0 1 0 0 0 1 1 0 0 0 1 0 0 0 0 0 0 0 0 0 0 0 1 1 1\n",
            " 1 1 1 1 1 0 1 1 1 1 1 0 1 1 0 1 1 1 0 1 1 1 1 1 1 1 1 1 1 1 0 1 1 1 1 1 0\n",
            " 1 1 1 0 1 1 1 1 1 1 1 1 1 1 1 1 1 1 1 1 1 1 1 1 1 1 1 1 1 1 1 0 1 1 1 1 1\n",
            " 1 1 1 1 1 1 1 1 1 1 1 1 1 1 1 1 1 1 1 1 1 1 1 1 1 1 1 1 1 1 1 1 1 1 1 1 1\n",
            " 1 1 1 1 1 1 1 1 1 1 0 1 1 0 0 1 0 1 1 0 1 1 1 1 0 1 1 0 0 1 1 1 0 1 1 1 1\n",
            " 1 1 1 1 1 1 1 1 1 0 1 0 1 1 1 0 1 1 1 0 1 0 1 0 1 0 1 1 1 1 0 1 0 1 1 1 1\n",
            " 1 1 1 1 1 0 1 0 1 1 1 1 1 1 1 0 1 1 1 1 1 1 0 1 1 1 0 1 1 0 1 0 1 1 0 1 1\n",
            " 1 1 0 1 1 1 0 0 1 0 1 1 1 1 1 1 1 1 1 1 1 0 1 1 1 1 0 0 1 1 1 0 1 0 1 1 0\n",
            " 1 0 1 1 1 0 0 0 1 1 1 0 1 1 1 1 1 1 1 1 1 1 1 1 1 1 1 1 0 1 1 1 0 1 1 0 0\n",
            " 1 1 1 1 1 0 1 1 0 1 1 1 0 0 1 1 1 1 1 0 1 0 1 1 0 1 0 0 0 1 1 1 1 0 0 0 1\n",
            " 0 0 1 1 0 0 1 0 0 0 0 0 0 0 1 0 1 0 0 1 1 1 1 1 0 0 1 0 0 0 1 0 1 1 1 1 1\n",
            " 0 0 0 0 0 1 0 1 1 0 1 0 0 0 1 0 1 0 1 1 0 0 0 0 1 0 0 0 0 1 1 1 0 0 0 0 0\n",
            " 0 1 0 1 1 1 1 1 0 1 0 0 0 1 0 1 1 1 0 1 1 0 1 0 1 0 0 0 1 1 0 1 1 1 1 0 0\n",
            " 0 1 0 0 1 1 1 0 1 0 0 0 1 0 0 1 0 1 0 1 1 1 1 1 0 0 0 0 0 0 0 1 0 0 1 1 1\n",
            " 0 1 0 0 0 0 0 1 0 1 1 0 0 1 1 1 1 0 0 1 1 0 0 0 1 0 0 1 0 1 0 1 0 0 0 0 0\n",
            " 1 0 1 1 1 1 0 0 0 1 0 1 0 0 1 0 0 0 0 0 0 1 1 0 1 0 0 1 1 0 0 1 1 0 1 0 1\n",
            " 0 1 0 0 1 0 0 1 0 1 1 0 1 1 1 0 1 0 0 0 0 1 1 0 0 1 1 0 1 0 0 0 0 1 0 0 1\n",
            " 1 1 0 0 0 1 0 1 0 1 0 1 1 1 0 0 0 1 0 1 1 1 0 1 1 1 1 1 1 0]\n"
          ]
        }
      ]
    },
    {
      "cell_type": "markdown",
      "metadata": {
        "papermill": {
          "duration": 0.036462,
          "end_time": "2021-10-07T14:20:01.834725",
          "exception": false,
          "start_time": "2021-10-07T14:20:01.798263",
          "status": "completed"
        },
        "tags": [],
        "id": "1d97dce4"
      },
      "source": [
        "**Encoding categorical data**"
      ],
      "id": "1d97dce4"
    },
    {
      "cell_type": "markdown",
      "metadata": {
        "papermill": {
          "duration": 0.034775,
          "end_time": "2021-10-07T14:20:01.904039",
          "exception": false,
          "start_time": "2021-10-07T14:20:01.869264",
          "status": "completed"
        },
        "tags": [],
        "id": "54d33d28"
      },
      "source": [
        "First the catergorical data and numerical data in X will be seperated/split."
      ],
      "id": "54d33d28"
    },
    {
      "cell_type": "code",
      "metadata": {
        "execution": {
          "iopub.execute_input": "2021-10-07T14:20:01.979974Z",
          "iopub.status.busy": "2021-10-07T14:20:01.978135Z",
          "iopub.status.idle": "2021-10-07T14:20:01.983275Z",
          "shell.execute_reply": "2021-10-07T14:20:01.982725Z",
          "shell.execute_reply.started": "2021-10-07T00:32:08.891869Z"
        },
        "papermill": {
          "duration": 0.045404,
          "end_time": "2021-10-07T14:20:01.983429",
          "exception": false,
          "start_time": "2021-10-07T14:20:01.938025",
          "status": "completed"
        },
        "tags": [],
        "id": "4aa48c18"
      },
      "source": [
        "X_numerical = dataset.iloc[:,[0,3,4,5,7,9,]].values\n",
        "X_categorical = dataset.iloc[:,[1,2,6,8,10]]"
      ],
      "id": "4aa48c18",
      "execution_count": 12,
      "outputs": []
    },
    {
      "cell_type": "code",
      "metadata": {
        "execution": {
          "iopub.execute_input": "2021-10-07T14:20:02.068126Z",
          "iopub.status.busy": "2021-10-07T14:20:02.060499Z",
          "iopub.status.idle": "2021-10-07T14:20:02.082307Z",
          "shell.execute_reply": "2021-10-07T14:20:02.082884Z",
          "shell.execute_reply.started": "2021-10-07T00:32:20.501399Z"
        },
        "papermill": {
          "duration": 0.065132,
          "end_time": "2021-10-07T14:20:02.083111",
          "exception": false,
          "start_time": "2021-10-07T14:20:02.017979",
          "status": "completed"
        },
        "tags": [],
        "id": "8a131155"
      },
      "source": [
        "#Encoding X_categorical\n",
        "\n",
        "orginalNumOfColsOfX_categorical = X_categorical.shape[1]\n",
        "for i in range(X_categorical.shape[1]): \n",
        "    currNumOfColsOfX_categorical = X_categorical.shape[1]\n",
        "    indexOfColumnToEncode = currNumOfColsOfX_categorical - orginalNumOfColsOfX_categorical + i\n",
        "    ct = ColumnTransformer(transformers=[('encoder', OneHotEncoder(drop='first'), [indexOfColumnToEncode])], remainder='passthrough', sparse_threshold=0)\n",
        "    X_categorical = np.array(ct.fit_transform(X_categorical)) "
      ],
      "id": "8a131155",
      "execution_count": 13,
      "outputs": []
    },
    {
      "cell_type": "code",
      "metadata": {
        "execution": {
          "iopub.execute_input": "2021-10-07T14:20:02.158748Z",
          "iopub.status.busy": "2021-10-07T14:20:02.158008Z",
          "iopub.status.idle": "2021-10-07T14:20:02.159903Z",
          "shell.execute_reply": "2021-10-07T14:20:02.160462Z",
          "shell.execute_reply.started": "2021-10-07T00:32:24.394149Z"
        },
        "papermill": {
          "duration": 0.042845,
          "end_time": "2021-10-07T14:20:02.160722",
          "exception": false,
          "start_time": "2021-10-07T14:20:02.117877",
          "status": "completed"
        },
        "tags": [],
        "id": "0e1ca11b"
      },
      "source": [
        "# Concatenate the X_numerical and X_categorical together\n",
        "\n",
        "X = np.concatenate((X_numerical,X_categorical), axis=1)"
      ],
      "id": "0e1ca11b",
      "execution_count": 14,
      "outputs": []
    },
    {
      "cell_type": "code",
      "metadata": {
        "execution": {
          "iopub.execute_input": "2021-10-07T14:20:02.235793Z",
          "iopub.status.busy": "2021-10-07T14:20:02.235064Z",
          "iopub.status.idle": "2021-10-07T14:20:02.238281Z",
          "shell.execute_reply": "2021-10-07T14:20:02.239027Z",
          "shell.execute_reply.started": "2021-10-07T00:32:28.123157Z"
        },
        "papermill": {
          "duration": 0.044154,
          "end_time": "2021-10-07T14:20:02.239281",
          "exception": false,
          "start_time": "2021-10-07T14:20:02.195127",
          "status": "completed"
        },
        "tags": [],
        "colab": {
          "base_uri": "https://localhost:8080/"
        },
        "id": "895cd196",
        "outputId": "2119d2d3-d31d-44be-a0e5-f4a021056d24"
      },
      "source": [
        "print(X)"
      ],
      "id": "895cd196",
      "execution_count": 15,
      "outputs": [
        {
          "output_type": "stream",
          "name": "stdout",
          "text": [
            "[[40.0 140.0 289.0 ... 0.0 0.0 1.0]\n",
            " [49.0 160.0 180.0 ... 1.0 0.0 0.0]\n",
            " [37.0 130.0 283.0 ... 0.0 0.0 1.0]\n",
            " ...\n",
            " [57.0 130.0 131.0 ... 0.0 0.0 1.0]\n",
            " [57.0 130.0 236.0 ... 0.0 0.0 0.0]\n",
            " [38.0 138.0 175.0 ... 1.0 0.0 1.0]]\n"
          ]
        }
      ]
    },
    {
      "cell_type": "markdown",
      "metadata": {
        "papermill": {
          "duration": 0.03581,
          "end_time": "2021-10-07T14:20:02.310888",
          "exception": false,
          "start_time": "2021-10-07T14:20:02.275078",
          "status": "completed"
        },
        "tags": [],
        "id": "834b60a3"
      },
      "source": [
        "**Split the data into a training and test set**"
      ],
      "id": "834b60a3"
    },
    {
      "cell_type": "code",
      "metadata": {
        "execution": {
          "iopub.execute_input": "2021-10-07T14:20:02.391516Z",
          "iopub.status.busy": "2021-10-07T14:20:02.387865Z",
          "iopub.status.idle": "2021-10-07T14:20:02.394241Z",
          "shell.execute_reply": "2021-10-07T14:20:02.394744Z",
          "shell.execute_reply.started": "2021-10-07T00:32:45.517961Z"
        },
        "papermill": {
          "duration": 0.047322,
          "end_time": "2021-10-07T14:20:02.394935",
          "exception": false,
          "start_time": "2021-10-07T14:20:02.347613",
          "status": "completed"
        },
        "tags": [],
        "id": "4cfb1e5e"
      },
      "source": [
        "X_train, X_test, y_train, y_test = train_test_split(X, y, test_size = 0.25, random_state = 0)"
      ],
      "id": "4cfb1e5e",
      "execution_count": 16,
      "outputs": []
    },
    {
      "cell_type": "markdown",
      "metadata": {
        "papermill": {
          "duration": 0.034318,
          "end_time": "2021-10-07T14:20:02.463921",
          "exception": false,
          "start_time": "2021-10-07T14:20:02.429603",
          "status": "completed"
        },
        "tags": [],
        "id": "c6fbe0f3"
      },
      "source": [
        "**Apply feature scaling** If not scaled, the features with high values will start dominating when calculating distances and will therefore become the prodominate features in the model. Decision tree models don't have to be scaled, but we will perform feature scaling to try improve the accuracy."
      ],
      "id": "c6fbe0f3"
    },
    {
      "cell_type": "code",
      "metadata": {
        "execution": {
          "iopub.execute_input": "2021-10-07T14:20:02.539773Z",
          "iopub.status.busy": "2021-10-07T14:20:02.538995Z",
          "iopub.status.idle": "2021-10-07T14:20:02.544417Z",
          "shell.execute_reply": "2021-10-07T14:20:02.543834Z",
          "shell.execute_reply.started": "2021-10-07T00:32:59.162027Z"
        },
        "papermill": {
          "duration": 0.045907,
          "end_time": "2021-10-07T14:20:02.544594",
          "exception": false,
          "start_time": "2021-10-07T14:20:02.498687",
          "status": "completed"
        },
        "tags": [],
        "id": "a0cc2bdc"
      },
      "source": [
        "sc = StandardScaler()\n",
        "X_train = sc.fit_transform(X_train)\n",
        "X_test = sc.transform(X_test)"
      ],
      "id": "a0cc2bdc",
      "execution_count": 17,
      "outputs": []
    },
    {
      "cell_type": "markdown",
      "metadata": {
        "papermill": {
          "duration": 0.034534,
          "end_time": "2021-10-07T14:20:02.614427",
          "exception": false,
          "start_time": "2021-10-07T14:20:02.579893",
          "status": "completed"
        },
        "tags": [],
        "id": "68f3f825"
      },
      "source": [
        "**Principle Component Analysis** Principal Component Analysis (PCA) is an unsupervised, non-parametric statistical technique primarily used for dimensionality reduction in machine learning. It is recommended in tree classifications to reduce the dimensionality and improve the models ability to predict."
      ],
      "id": "68f3f825"
    },
    {
      "cell_type": "code",
      "metadata": {
        "execution": {
          "iopub.execute_input": "2021-10-07T14:20:02.695477Z",
          "iopub.status.busy": "2021-10-07T14:20:02.693437Z",
          "iopub.status.idle": "2021-10-07T14:20:02.710816Z",
          "shell.execute_reply": "2021-10-07T14:20:02.711720Z",
          "shell.execute_reply.started": "2021-10-07T00:35:28.143418Z"
        },
        "papermill": {
          "duration": 0.06102,
          "end_time": "2021-10-07T14:20:02.712046",
          "exception": false,
          "start_time": "2021-10-07T14:20:02.651026",
          "status": "completed"
        },
        "tags": [],
        "id": "4967f350"
      },
      "source": [
        "pca = PCA(n_components = 2)\n",
        "X_train = pca.fit_transform(X_train)\n",
        "X_test = pca.transform(X_test)"
      ],
      "id": "4967f350",
      "execution_count": 18,
      "outputs": []
    },
    {
      "cell_type": "markdown",
      "metadata": {
        "papermill": {
          "duration": 0.053179,
          "end_time": "2021-10-07T14:20:02.829859",
          "exception": false,
          "start_time": "2021-10-07T14:20:02.776680",
          "status": "completed"
        },
        "tags": [],
        "id": "bfb8c15d"
      },
      "source": [
        "**Training the decision tree classification on the training set**"
      ],
      "id": "bfb8c15d"
    },
    {
      "cell_type": "code",
      "metadata": {
        "execution": {
          "iopub.execute_input": "2021-10-07T14:20:02.908187Z",
          "iopub.status.busy": "2021-10-07T14:20:02.907438Z",
          "iopub.status.idle": "2021-10-07T14:20:02.918732Z",
          "shell.execute_reply": "2021-10-07T14:20:02.919228Z",
          "shell.execute_reply.started": "2021-10-07T00:35:33.704562Z"
        },
        "papermill": {
          "duration": 0.053131,
          "end_time": "2021-10-07T14:20:02.919428",
          "exception": false,
          "start_time": "2021-10-07T14:20:02.866297",
          "status": "completed"
        },
        "tags": [],
        "colab": {
          "base_uri": "https://localhost:8080/"
        },
        "id": "ae576513",
        "outputId": "91c39213-3b83-4891-8097-ef67389ab903"
      },
      "source": [
        "# Parameters: quality of split is measured by entropy.\n",
        "\n",
        "classifier = DecisionTreeClassifier(criterion = 'entropy', random_state = 0)\n",
        "classifier.fit(X_train, y_train)"
      ],
      "id": "ae576513",
      "execution_count": 19,
      "outputs": [
        {
          "output_type": "execute_result",
          "data": {
            "text/plain": [
              "DecisionTreeClassifier(criterion='entropy', random_state=0)"
            ]
          },
          "metadata": {},
          "execution_count": 19
        }
      ]
    },
    {
      "cell_type": "markdown",
      "metadata": {
        "papermill": {
          "duration": 0.034841,
          "end_time": "2021-10-07T14:20:02.989862",
          "exception": false,
          "start_time": "2021-10-07T14:20:02.955021",
          "status": "completed"
        },
        "tags": [],
        "id": "12afbab6"
      },
      "source": [
        "**Making predictions and calculating the accuracy**"
      ],
      "id": "12afbab6"
    },
    {
      "cell_type": "code",
      "metadata": {
        "execution": {
          "iopub.execute_input": "2021-10-07T14:20:03.066199Z",
          "iopub.status.busy": "2021-10-07T14:20:03.065520Z",
          "iopub.status.idle": "2021-10-07T14:20:03.074096Z",
          "shell.execute_reply": "2021-10-07T14:20:03.074780Z",
          "shell.execute_reply.started": "2021-10-07T00:35:45.229263Z"
        },
        "papermill": {
          "duration": 0.050742,
          "end_time": "2021-10-07T14:20:03.075013",
          "exception": false,
          "start_time": "2021-10-07T14:20:03.024271",
          "status": "completed"
        },
        "tags": [],
        "id": "0ce715aa"
      },
      "source": [
        "y_pred = classifier.predict(X_test)"
      ],
      "id": "0ce715aa",
      "execution_count": 20,
      "outputs": []
    },
    {
      "cell_type": "code",
      "metadata": {
        "execution": {
          "iopub.execute_input": "2021-10-07T14:20:03.152466Z",
          "iopub.status.busy": "2021-10-07T14:20:03.151777Z",
          "iopub.status.idle": "2021-10-07T14:20:03.161717Z",
          "shell.execute_reply": "2021-10-07T14:20:03.162210Z",
          "shell.execute_reply.started": "2021-10-07T00:35:58.02433Z"
        },
        "papermill": {
          "duration": 0.051746,
          "end_time": "2021-10-07T14:20:03.162410",
          "exception": false,
          "start_time": "2021-10-07T14:20:03.110664",
          "status": "completed"
        },
        "tags": [],
        "colab": {
          "base_uri": "https://localhost:8080/"
        },
        "id": "4e1c9acb",
        "outputId": "9cbe3a6f-1ae1-4a5b-cbe3-70fbee151fb5"
      },
      "source": [
        "# Confusion matrix\n",
        "\n",
        "cm = confusion_matrix(y_test, y_pred)\n",
        "print(cm)\n",
        "accuracy_score(y_test, y_pred)"
      ],
      "id": "4e1c9acb",
      "execution_count": 21,
      "outputs": [
        {
          "output_type": "stream",
          "name": "stdout",
          "text": [
            "[[ 69  23]\n",
            " [ 33 105]]\n"
          ]
        },
        {
          "output_type": "execute_result",
          "data": {
            "text/plain": [
              "0.7565217391304347"
            ]
          },
          "metadata": {},
          "execution_count": 21
        }
      ]
    },
    {
      "cell_type": "markdown",
      "metadata": {
        "papermill": {
          "duration": 0.035953,
          "end_time": "2021-10-07T14:20:03.235465",
          "exception": false,
          "start_time": "2021-10-07T14:20:03.199512",
          "status": "completed"
        },
        "tags": [],
        "id": "9abaeaa8"
      },
      "source": [
        "An accuracy of 76% is not ideal however, the parameters have not been tuned yet and better results are to be expected once the grid search for the best parameters and accuracy has been completed."
      ],
      "id": "9abaeaa8"
    },
    {
      "cell_type": "markdown",
      "metadata": {
        "papermill": {
          "duration": 0.035698,
          "end_time": "2021-10-07T14:20:03.307284",
          "exception": false,
          "start_time": "2021-10-07T14:20:03.271586",
          "status": "completed"
        },
        "tags": [],
        "id": "fb3a8ef5"
      },
      "source": [
        "**Hypertune the parameters** A k-fold cross validation will be performed then a grid search to find the best model and parameters. These tests can help us identify the robustness of the model."
      ],
      "id": "fb3a8ef5"
    },
    {
      "cell_type": "markdown",
      "metadata": {
        "papermill": {
          "duration": 0.035543,
          "end_time": "2021-10-07T14:20:03.378742",
          "exception": false,
          "start_time": "2021-10-07T14:20:03.343199",
          "status": "completed"
        },
        "tags": [],
        "id": "d9f382c1"
      },
      "source": [
        "**The k-fold cross validation**"
      ],
      "id": "d9f382c1"
    },
    {
      "cell_type": "code",
      "metadata": {
        "execution": {
          "iopub.execute_input": "2021-10-07T14:20:03.454432Z",
          "iopub.status.busy": "2021-10-07T14:20:03.453429Z",
          "iopub.status.idle": "2021-10-07T14:20:03.509242Z",
          "shell.execute_reply": "2021-10-07T14:20:03.508386Z",
          "shell.execute_reply.started": "2021-10-07T00:36:06.202305Z"
        },
        "papermill": {
          "duration": 0.095172,
          "end_time": "2021-10-07T14:20:03.509527",
          "exception": false,
          "start_time": "2021-10-07T14:20:03.414355",
          "status": "completed"
        },
        "tags": [],
        "colab": {
          "base_uri": "https://localhost:8080/"
        },
        "id": "4bed17cb",
        "outputId": "0967d7af-0bed-4b5d-e791-e097e2d51aac"
      },
      "source": [
        "accuracies = cross_val_score(estimator = classifier, X = X_train, y = y_train, cv = 10)\n",
        "print(\"Accuracy: {:.2f} %\".format(accuracies.mean()*100))\n",
        "print(\"Standard Deviation: {:.2f} %\".format(accuracies.std()*100))"
      ],
      "id": "4bed17cb",
      "execution_count": 22,
      "outputs": [
        {
          "output_type": "stream",
          "name": "stdout",
          "text": [
            "Accuracy: 78.78 %\n",
            "Standard Deviation: 2.84 %\n"
          ]
        }
      ]
    },
    {
      "cell_type": "markdown",
      "metadata": {
        "papermill": {
          "duration": 0.036778,
          "end_time": "2021-10-07T14:20:03.584404",
          "exception": false,
          "start_time": "2021-10-07T14:20:03.547626",
          "status": "completed"
        },
        "tags": [],
        "id": "d89d29af"
      },
      "source": [
        "**The grid search**"
      ],
      "id": "d89d29af"
    },
    {
      "cell_type": "code",
      "metadata": {
        "execution": {
          "iopub.execute_input": "2021-10-07T14:20:03.661532Z",
          "iopub.status.busy": "2021-10-07T14:20:03.660512Z",
          "iopub.status.idle": "2021-10-07T14:20:03.666783Z",
          "shell.execute_reply": "2021-10-07T14:20:03.667244Z",
          "shell.execute_reply.started": "2021-10-07T00:36:11.410748Z"
        },
        "papermill": {
          "duration": 0.046526,
          "end_time": "2021-10-07T14:20:03.667445",
          "exception": false,
          "start_time": "2021-10-07T14:20:03.620919",
          "status": "completed"
        },
        "tags": [],
        "colab": {
          "base_uri": "https://localhost:8080/"
        },
        "id": "79e7223e",
        "outputId": "8f904347-0694-42db-e575-420e5acaeac4"
      },
      "source": [
        "classifier.get_params().keys()"
      ],
      "id": "79e7223e",
      "execution_count": 23,
      "outputs": [
        {
          "output_type": "execute_result",
          "data": {
            "text/plain": [
              "dict_keys(['ccp_alpha', 'class_weight', 'criterion', 'max_depth', 'max_features', 'max_leaf_nodes', 'min_impurity_decrease', 'min_samples_leaf', 'min_samples_split', 'min_weight_fraction_leaf', 'random_state', 'splitter'])"
            ]
          },
          "metadata": {},
          "execution_count": 23
        }
      ]
    },
    {
      "cell_type": "code",
      "metadata": {
        "execution": {
          "iopub.execute_input": "2021-10-07T14:20:03.749477Z",
          "iopub.status.busy": "2021-10-07T14:20:03.748075Z",
          "iopub.status.idle": "2021-10-07T14:20:10.211149Z",
          "shell.execute_reply": "2021-10-07T14:20:10.211665Z",
          "shell.execute_reply.started": "2021-10-07T00:36:15.742962Z"
        },
        "papermill": {
          "duration": 6.508074,
          "end_time": "2021-10-07T14:20:10.211900",
          "exception": false,
          "start_time": "2021-10-07T14:20:03.703826",
          "status": "completed"
        },
        "tags": [],
        "colab": {
          "base_uri": "https://localhost:8080/"
        },
        "id": "d50992a3",
        "outputId": "8f1c7a26-1fb2-48da-f92d-7ab460b04797"
      },
      "source": [
        "parameters = [{\"criterion\":[\"gini\", \"entropy\"], \"max_depth\":range(1, 20),\n",
        "               \"min_samples_leaf\":range(1,10)}]\n",
        "grid_search = GridSearchCV(estimator = classifier,\n",
        "                           param_grid = parameters,\n",
        "                           scoring = 'accuracy',\n",
        "                           cv = 10,\n",
        "                           n_jobs = -1)\n",
        "grid_search.fit(X_train, y_train)\n",
        "best_accuracy = grid_search.best_score_\n",
        "best_parameters = grid_search.best_params_\n",
        "print(\"Best Accuracy: {:.2f} %\".format(best_accuracy*100))\n",
        "print(\"Best Parameters:\", best_parameters)"
      ],
      "id": "d50992a3",
      "execution_count": 24,
      "outputs": [
        {
          "output_type": "stream",
          "name": "stdout",
          "text": [
            "Best Accuracy: 86.48 %\n",
            "Best Parameters: {'criterion': 'gini', 'max_depth': 3, 'min_samples_leaf': 8}\n"
          ]
        }
      ]
    },
    {
      "cell_type": "markdown",
      "metadata": {
        "papermill": {
          "duration": 0.036387,
          "end_time": "2021-10-07T14:20:10.284888",
          "exception": false,
          "start_time": "2021-10-07T14:20:10.248501",
          "status": "completed"
        },
        "tags": [],
        "id": "c1ecbfff"
      },
      "source": [
        "Our best model was run when 'gini' was used as the citerion to split the nodes and not 'entropy'. Gini impurity, calculates the amount of probability of a specific feature that is classified incorrectly when selected randomly. The best accuracy was 84.88% with Gini impurity, a max depth of 3 and a minimum sample leaves of 8."
      ],
      "id": "c1ecbfff"
    }
  ]
}